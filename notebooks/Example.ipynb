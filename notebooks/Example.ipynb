{
 "cells": [
  {
   "cell_type": "code",
   "execution_count": null,
   "id": "617f60b6-76f3-40f3-8622-88324ef70f40",
   "metadata": {},
   "outputs": [],
   "source": [
    "import json\n",
    "\n",
    "import matplotlib.pyplot as plt\n",
    "\n",
    "from octopus_dash import data"
   ]
  },
  {
   "cell_type": "code",
   "execution_count": null,
   "id": "c4000e03-12b7-4dd3-9a57-6526632cf847",
   "metadata": {},
   "outputs": [],
   "source": [
    "with open(\"../donttrack/config.json\") as tf:\n",
    "    config = json.load(tf)"
   ]
  },
  {
   "cell_type": "code",
   "execution_count": null,
   "id": "95428a96-85ff-4f7e-9601-60735c3645b0",
   "metadata": {},
   "outputs": [],
   "source": [
    "d = data\\\n",
    "        .data_getter(**config)\\\n",
    "        .load_electric_data()"
   ]
  },
  {
   "cell_type": "code",
   "execution_count": null,
   "id": "b702967b-87ab-48c0-b6ee-0bf5b0ec2131",
   "metadata": {},
   "outputs": [],
   "source": [
    "df = d.enrich_data().get_dataframe()"
   ]
  },
  {
   "cell_type": "code",
   "execution_count": null,
   "id": "2d1b1284-a9a6-4641-992e-ca0c19077f62",
   "metadata": {},
   "outputs": [],
   "source": [
    "df"
   ]
  },
  {
   "cell_type": "code",
   "execution_count": null,
   "id": "bdd5e05e-4f32-4974-b1c7-1eade1335af5",
   "metadata": {},
   "outputs": [],
   "source": [
    "df.groupby(\"hour\")[\"consumption\"]\\\n",
    "    .mean()\\\n",
    "    .plot(\n",
    "        kind = \"bar\", \n",
    "        figsize = (10, 6)\n",
    ")"
   ]
  },
  {
   "cell_type": "code",
   "execution_count": null,
   "id": "3b0de9cd-d7e5-4c1e-994a-4a22eaa11aed",
   "metadata": {},
   "outputs": [],
   "source": [
    "d.get_monthly_cost()"
   ]
  },
  {
   "cell_type": "code",
   "execution_count": null,
   "id": "3dcf27ea-9334-42e9-8f5d-e07f1a0dc52e",
   "metadata": {},
   "outputs": [],
   "source": [
    "d.tariff.off_peak_rate = 12.00/100\n",
    "d.tariff.peak_rate = 39.95/100\n",
    "d.standing_day_charge = 49.11/100"
   ]
  },
  {
   "cell_type": "code",
   "execution_count": null,
   "id": "bf8ab31d-e8c9-4e46-814c-be6c3b4d810c",
   "metadata": {},
   "outputs": [],
   "source": [
    "d.get_monthly_cost()"
   ]
  },
  {
   "cell_type": "code",
   "execution_count": null,
   "id": "4136dd30-26d9-4f93-8751-1053b32f71fd",
   "metadata": {},
   "outputs": [],
   "source": []
  },
  {
   "cell_type": "code",
   "execution_count": null,
   "id": "8edc1f6c-805d-4512-b9d9-f5c81da03d14",
   "metadata": {},
   "outputs": [],
   "source": [
    "import pandas as pd"
   ]
  },
  {
   "cell_type": "code",
   "execution_count": null,
   "id": "d0f3337f-a728-449a-83cd-47991676141a",
   "metadata": {},
   "outputs": [],
   "source": [
    "df = df.assign(interval_start = lambda x: pd.to_datetime(x.interval_start, utc = True))"
   ]
  },
  {
   "cell_type": "code",
   "execution_count": null,
   "id": "928dc38d-863f-4ed2-930b-4f5eeb54455a",
   "metadata": {},
   "outputs": [],
   "source": [
    "df.set_index(\"interval_start\", inplace=True)"
   ]
  },
  {
   "cell_type": "code",
   "execution_count": null,
   "id": "7ff713b3-7108-4982-9160-e557e03097ae",
   "metadata": {},
   "outputs": [],
   "source": [
    "df.groupby(df.index.month)[\"off_grid\"].mean().plot(kind=\"bar\")"
   ]
  },
  {
   "cell_type": "code",
   "execution_count": null,
   "id": "e5b7437a-a402-4195-b69d-d5fb93f28800",
   "metadata": {},
   "outputs": [],
   "source": [
    "df.groupby([df.index.month, df.off_peak])[\"cost\"].sum().unstack().loc[3:].plot(kind=\"area\")"
   ]
  },
  {
   "cell_type": "code",
   "execution_count": null,
   "id": "23f17a10-e237-4b7b-b882-3271dc2720c7",
   "metadata": {},
   "outputs": [],
   "source": [
    "df.groupby(df.index.month)[\"off_grid\"].mean().plot(kind=\"bar\")"
   ]
  },
  {
   "cell_type": "code",
   "execution_count": null,
   "id": "4a6e47e6-d8c7-4812-b2f5-912bc8ed0155",
   "metadata": {},
   "outputs": [],
   "source": []
  }
 ],
 "metadata": {
  "kernelspec": {
   "display_name": "Python 3 (ipykernel)",
   "language": "python",
   "name": "python3"
  },
  "language_info": {
   "codemirror_mode": {
    "name": "ipython",
    "version": 3
   },
   "file_extension": ".py",
   "mimetype": "text/x-python",
   "name": "python",
   "nbconvert_exporter": "python",
   "pygments_lexer": "ipython3",
   "version": "3.8.10"
  }
 },
 "nbformat": 4,
 "nbformat_minor": 5
}
