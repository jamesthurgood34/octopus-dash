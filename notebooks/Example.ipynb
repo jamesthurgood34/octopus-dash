{
 "cells": [
  {
   "cell_type": "code",
   "execution_count": null,
   "id": "617f60b6-76f3-40f3-8622-88324ef70f40",
   "metadata": {},
   "outputs": [],
   "source": [
    "import json\n",
    "import matplotlib.pyplot as plt\n",
    "import seaborn as sns\n",
    "\n",
    "from octopus_dash import data\n",
    "\n",
    "figsize = (10, 6)"
   ]
  },
  {
   "cell_type": "code",
   "execution_count": null,
   "id": "c4000e03-12b7-4dd3-9a57-6526632cf847",
   "metadata": {},
   "outputs": [],
   "source": [
    "with open(\"../donttrack/config.json\") as tf:\n",
    "    config = json.load(tf)"
   ]
  },
  {
   "cell_type": "code",
   "execution_count": null,
   "id": "95428a96-85ff-4f7e-9601-60735c3645b0",
   "metadata": {},
   "outputs": [],
   "source": [
    "d = data\\\n",
    "        .data_getter(**config)\\\n",
    "        .load_electric_data()"
   ]
  },
  {
   "cell_type": "code",
   "execution_count": null,
   "id": "b702967b-87ab-48c0-b6ee-0bf5b0ec2131",
   "metadata": {},
   "outputs": [],
   "source": [
    "df = d.enrich_data().get_dataframe()"
   ]
  },
  {
   "cell_type": "code",
   "execution_count": null,
   "id": "2d1b1284-a9a6-4641-992e-ca0c19077f62",
   "metadata": {},
   "outputs": [],
   "source": [
    "df.sample(10)"
   ]
  },
  {
   "cell_type": "code",
   "execution_count": null,
   "id": "a98996f5-515a-4489-b130-5718cc8c5308",
   "metadata": {},
   "outputs": [],
   "source": [
    "monthly_use = df.groupby([\"off_peak\", \"month\"])[\"consumption\"].sum().unstack().T"
   ]
  },
  {
   "cell_type": "code",
   "execution_count": null,
   "id": "c043d41f-8615-49e2-96cf-a6908998c882",
   "metadata": {},
   "outputs": [],
   "source": []
  },
  {
   "cell_type": "code",
   "execution_count": null,
   "id": "47350fd3-0ab7-4cc4-b226-58fc45751500",
   "metadata": {},
   "outputs": [],
   "source": [
    "import pandas as pd"
   ]
  },
  {
   "cell_type": "code",
   "execution_count": null,
   "id": "9ec66b3d-0af1-4c0b-9c45-5ed633660d59",
   "metadata": {},
   "outputs": [],
   "source": [
    "pd.concat([\n",
    "    (monthly_use[False]/monthly_use.sum(axis=1))*0.3083,\n",
    "    (monthly_use[True]/monthly_use.sum(axis=1))*0.0750\n",
    "], axis = 1).sum(axis = 1)"
   ]
  },
  {
   "cell_type": "code",
   "execution_count": null,
   "id": "c648af31-1aea-4396-bec7-785e8dbf6c6c",
   "metadata": {},
   "outputs": [],
   "source": [
    "pd.concat([\n",
    "    (monthly_use[False]/monthly_use.sum(axis=1))*0.3995,\n",
    "    (monthly_use[True]/monthly_use.sum(axis=1))*0.12\n",
    "], axis = 1).sum(axis = 1)"
   ]
  },
  {
   "cell_type": "code",
   "execution_count": null,
   "id": "510b19cb-4f19-47db-a26f-f7bc693f568a",
   "metadata": {},
   "outputs": [],
   "source": [
    "def plot_by_month_and_off_peak(x, **kwargs):\n",
    "    ax = df\\\n",
    "        .groupby([\"off_peak\", \"month\"])\\\n",
    "        [x]\\\n",
    "        .sum()\\\n",
    "        .unstack()\\\n",
    "        .T\\\n",
    "        .plot(\n",
    "            kind = \"bar\",\n",
    "            figsize = figsize,\n",
    "            **kwargs\n",
    "        )\n",
    "\n",
    "    _ = ax.set_ylabel(x)\n",
    "    \n",
    "    return ax"
   ]
  },
  {
   "cell_type": "code",
   "execution_count": null,
   "id": "b9a9d232-9ba0-4c4a-8686-67fc765cf09d",
   "metadata": {},
   "outputs": [],
   "source": [
    "ax = plot_by_month_and_off_peak(\"consumption\")\n",
    "_ = ax.set_title(\"Consumption Split By Peak and Off-Peak\")"
   ]
  },
  {
   "cell_type": "code",
   "execution_count": null,
   "id": "6e4fa48b-330f-4d48-9905-86e66c5731ee",
   "metadata": {},
   "outputs": [],
   "source": [
    "ax = plot_by_month_and_off_peak(\"cost\")\n",
    "_ = ax.set_title(\"Cost Split By Peak and Off-Peak\")"
   ]
  },
  {
   "cell_type": "code",
   "execution_count": null,
   "id": "e881f891-5642-4f71-818f-b6dc3618da0d",
   "metadata": {},
   "outputs": [],
   "source": [
    "consumption = df\\\n",
    "    .groupby([\"month\", \"off_peak\"])\\\n",
    "    [\"consumption\"]\\\n",
    "    .mean()\\\n",
    "    .unstack()\n",
    "\n",
    "total = consumption.sum(axis = 1)\n",
    "\n",
    "total_norm = consumption / pd.concat([total, total], axis=1)\n",
    "\n",
    "effective_rate = total_norm[False]*d.tariff.peak_rate + total_norm[True]*d.tariff.off_peak_rate"
   ]
  },
  {
   "cell_type": "code",
   "execution_count": null,
   "id": "0f367ab9-2b53-4cbd-a37a-f9735ade1dc6",
   "metadata": {},
   "outputs": [],
   "source": [
    "ax = effective_rate.plot(kind=\"bar\", figsize = figsize)\n",
    "_ = ax.set_title(\"Effective Unit Rate\")"
   ]
  },
  {
   "cell_type": "code",
   "execution_count": null,
   "id": "3fc52ad3-7cb5-4a84-94aa-ac50d0da37e3",
   "metadata": {},
   "outputs": [],
   "source": [
    "fig, ax = plt.subplots(figsize = (15, 6))\n",
    "ax = sns.heatmap(\n",
    "    df.groupby([\"hour\", \"month\"])[\"cost\"].mean().unstack().loc[:,3:]\n",
    ")\n",
    "_ = ax.set_title(\"Average energy use by hour and month\")"
   ]
  },
  {
   "cell_type": "code",
   "execution_count": null,
   "id": "ec04a36a-c237-43fa-8e8e-ca969f013db1",
   "metadata": {},
   "outputs": [],
   "source": [
    "fig, ax = plt.subplots(figsize = (15, 6))\n",
    "ax = sns.heatmap(\n",
    "    df.groupby([\"hour\", \"month\"])[\"cost\"].mean().unstack().loc[4:23.5,3:11]\n",
    ")\n",
    "_ = ax.set_title(\"Average energy use by hour and month\")"
   ]
  },
  {
   "cell_type": "code",
   "execution_count": null,
   "id": "3f52f6ee-4b17-4264-a0e7-7e7d3895e15b",
   "metadata": {},
   "outputs": [],
   "source": [
    "ax = df\\\n",
    "    .groupby([\"month\",\"hour\"])\\\n",
    "    [\"cost\"]\\\n",
    "    .mean()\\\n",
    "    .unstack()\\\n",
    "    .loc[3:]\\\n",
    "    .T\\\n",
    "    .plot(figsize=(10,6))\n",
    "\n",
    "_ = ax.set_title(\"Average energy use by hour and month\")"
   ]
  },
  {
   "cell_type": "markdown",
   "id": "3a46ddbc-d2e8-48d5-8d8c-249323da9801",
   "metadata": {},
   "source": [
    "## Estmating the effect of change in tarrif"
   ]
  },
  {
   "cell_type": "code",
   "execution_count": null,
   "id": "3b0de9cd-d7e5-4c1e-994a-4a22eaa11aed",
   "metadata": {},
   "outputs": [],
   "source": [
    "d.get_monthly_cost()"
   ]
  },
  {
   "cell_type": "code",
   "execution_count": null,
   "id": "3dcf27ea-9334-42e9-8f5d-e07f1a0dc52e",
   "metadata": {},
   "outputs": [],
   "source": [
    "d.tariff.off_peak_rate = 12.00/100\n",
    "d.tariff.peak_rate = 39.95/100\n",
    "d.standing_day_charge = 49.11/100"
   ]
  },
  {
   "cell_type": "code",
   "execution_count": null,
   "id": "bf8ab31d-e8c9-4e46-814c-be6c3b4d810c",
   "metadata": {},
   "outputs": [],
   "source": [
    "d.get_monthly_cost()"
   ]
  },
  {
   "cell_type": "code",
   "execution_count": null,
   "id": "4136dd30-26d9-4f93-8751-1053b32f71fd",
   "metadata": {},
   "outputs": [],
   "source": []
  },
  {
   "cell_type": "code",
   "execution_count": null,
   "id": "8edc1f6c-805d-4512-b9d9-f5c81da03d14",
   "metadata": {},
   "outputs": [],
   "source": [
    "import pandas as pd"
   ]
  },
  {
   "cell_type": "code",
   "execution_count": null,
   "id": "d0f3337f-a728-449a-83cd-47991676141a",
   "metadata": {},
   "outputs": [],
   "source": [
    "df = df.assign(interval_start = lambda x: pd.to_datetime(x.interval_start, utc = True))"
   ]
  },
  {
   "cell_type": "code",
   "execution_count": null,
   "id": "928dc38d-863f-4ed2-930b-4f5eeb54455a",
   "metadata": {},
   "outputs": [],
   "source": [
    "df.set_index(\"interval_start\", inplace=True)"
   ]
  },
  {
   "cell_type": "code",
   "execution_count": null,
   "id": "7ff713b3-7108-4982-9160-e557e03097ae",
   "metadata": {},
   "outputs": [],
   "source": [
    "df.groupby(df.index.month)[\"off_grid\"].sum().plot(kind=\"bar\")"
   ]
  },
  {
   "cell_type": "code",
   "execution_count": null,
   "id": "e5b7437a-a402-4195-b69d-d5fb93f28800",
   "metadata": {},
   "outputs": [],
   "source": [
    "df.groupby([df.index.month, df.off_peak])[\"cost\"].sum().unstack().loc[3:].plot(kind=\"area\")"
   ]
  },
  {
   "cell_type": "code",
   "execution_count": null,
   "id": "5247fe14-8cf8-476c-a43f-6009ee8fa9b1",
   "metadata": {},
   "outputs": [],
   "source": [
    "monthly_use = df.groupby([\"month\", \"off_peak\"])[\"consumption\"].sum().unstack()\n",
    "savings = monthly_use[False]*d.tariff.peak_rate-monthly_use[False]*d.tariff.off_peak_rate\n",
    "\n",
    "peak_use = df\\\n",
    "    .assign(day = lambda x: x.interval_start.apply(lambda y: y.day))\\\n",
    "    .query(\"off_peak==False\")\\\n",
    "    .groupby([\"month\", \"day\"])[\"consumption\"].sum().unstack().T\n",
    "\n",
    "battry_size = peak_use.mean() + 3*peak_use.std()\n",
    "\n",
    "battery = pd.concat(\n",
    "    [ savings.rename(\"savings\"), battry_size.rename(\"kwh_per_day\")]\n",
    ",\n",
    "        axis = 1\n",
    ")\n",
    "\n",
    "battery"
   ]
  },
  {
   "cell_type": "code",
   "execution_count": null,
   "id": "dd40c836-9efd-449b-92bc-9ea1e96d306c",
   "metadata": {},
   "outputs": [],
   "source": []
  }
 ],
 "metadata": {
  "kernelspec": {
   "display_name": "Python 3 (ipykernel)",
   "language": "python",
   "name": "python3"
  },
  "language_info": {
   "codemirror_mode": {
    "name": "ipython",
    "version": 3
   },
   "file_extension": ".py",
   "mimetype": "text/x-python",
   "name": "python",
   "nbconvert_exporter": "python",
   "pygments_lexer": "ipython3",
   "version": "3.8.10"
  }
 },
 "nbformat": 4,
 "nbformat_minor": 5
}
